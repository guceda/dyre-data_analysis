{
 "cells": [
  {
   "cell_type": "markdown",
   "metadata": {},
   "source": [
    "# II2202 Quantitative Exercise\n",
    "## MiaoMiao Liu & Gonzalo Uceda\n",
    "# "
   ]
  },
  {
   "cell_type": "code",
   "execution_count": null,
   "metadata": {},
   "outputs": [],
   "source": [
    "#Fix imports hopefully for the rest of our lives.\n",
    "import sys\n",
    "!{sys.executable} -m pip install pandas seaborn numpy nbconvert pandoc"
   ]
  },
  {
   "cell_type": "markdown",
   "metadata": {},
   "source": [
    "## 1. Load data into the analysis tool.\n",
    "\n",
    "- Load the user testing results and convert it into a Dataframe.\n",
    "- Drop unnecesary columns: Drop 'feedback' column as it won't be used for the quantitative analysis."
   ]
  },
  {
   "cell_type": "code",
   "execution_count": 2,
   "metadata": {},
   "outputs": [],
   "source": [
    "# Read the dataset file.\n",
    "import pandas as pd\n",
    "ds=pd.read_csv('./datasets/user_testing_results.csv')\n",
    "df=pd.DataFrame(ds)\n",
    "\n",
    "# Drop 'feedback' column as it won't be used for the quantitative analysis.\n",
    "df = ds.iloc[:, :-1]"
   ]
  },
  {
   "cell_type": "markdown",
   "metadata": {},
   "source": [
    "## 2. Prepare the data."
   ]
  },
  {
   "cell_type": "markdown",
   "metadata": {},
   "source": [
    "##### The dataset is made up of 11 columns:\n",
    "\n",
    "* Participants' id.\n",
    "* Reading speeds & Reading comprehension scores for **Experiment 1**: 4 columns\n",
    "* Reading speeds & Reading comprehension scores for **Experiment 2**: 6 columns"
   ]
  },
  {
   "cell_type": "code",
   "execution_count": 3,
   "metadata": {},
   "outputs": [
    {
     "data": {
      "text/plain": [
       "['participant',\n",
       " 'page_speed1',\n",
       " 'page_score1',\n",
       " 'page_speed2',\n",
       " 'page_score2',\n",
       " 'dynamic_speed1',\n",
       " 'dynamic_score1',\n",
       " 'dynamic_speed2',\n",
       " 'dynamic_score2',\n",
       " 'dynamic_speed3',\n",
       " 'dynamic_score3']"
      ]
     },
     "execution_count": 3,
     "metadata": {},
     "output_type": "execute_result"
    }
   ],
   "source": [
    "# Print the number of the columns available.\n",
    "list(df.columns)"
   ]
  },
  {
   "cell_type": "code",
   "execution_count": 4,
   "metadata": {},
   "outputs": [
    {
     "data": {
      "text/html": [
       "<div>\n",
       "<style scoped>\n",
       "    .dataframe tbody tr th:only-of-type {\n",
       "        vertical-align: middle;\n",
       "    }\n",
       "\n",
       "    .dataframe tbody tr th {\n",
       "        vertical-align: top;\n",
       "    }\n",
       "\n",
       "    .dataframe thead th {\n",
       "        text-align: right;\n",
       "    }\n",
       "</style>\n",
       "<table border=\"1\" class=\"dataframe\">\n",
       "  <thead>\n",
       "    <tr style=\"text-align: right;\">\n",
       "      <th></th>\n",
       "      <th>participant</th>\n",
       "      <th>page_speed1</th>\n",
       "      <th>page_score1</th>\n",
       "      <th>page_speed2</th>\n",
       "      <th>page_score2</th>\n",
       "      <th>dynamic_speed1</th>\n",
       "      <th>dynamic_score1</th>\n",
       "      <th>dynamic_speed2</th>\n",
       "      <th>dynamic_score2</th>\n",
       "      <th>dynamic_speed3</th>\n",
       "      <th>dynamic_score3</th>\n",
       "    </tr>\n",
       "  </thead>\n",
       "  <tbody>\n",
       "    <tr>\n",
       "      <th>0</th>\n",
       "      <td>1</td>\n",
       "      <td>180</td>\n",
       "      <td>50%</td>\n",
       "      <td>190</td>\n",
       "      <td>25%</td>\n",
       "      <td>180</td>\n",
       "      <td>100%</td>\n",
       "      <td>200</td>\n",
       "      <td>25%</td>\n",
       "      <td>220</td>\n",
       "      <td>25%</td>\n",
       "    </tr>\n",
       "    <tr>\n",
       "      <th>1</th>\n",
       "      <td>2</td>\n",
       "      <td>229</td>\n",
       "      <td>75%</td>\n",
       "      <td>230</td>\n",
       "      <td>75%</td>\n",
       "      <td>220</td>\n",
       "      <td>100%</td>\n",
       "      <td>230</td>\n",
       "      <td>100%</td>\n",
       "      <td>240</td>\n",
       "      <td>75%</td>\n",
       "    </tr>\n",
       "    <tr>\n",
       "      <th>2</th>\n",
       "      <td>3</td>\n",
       "      <td>204</td>\n",
       "      <td>75%</td>\n",
       "      <td>210</td>\n",
       "      <td>25%</td>\n",
       "      <td>200</td>\n",
       "      <td>50%</td>\n",
       "      <td>210</td>\n",
       "      <td>75%</td>\n",
       "      <td>220</td>\n",
       "      <td>50%</td>\n",
       "    </tr>\n",
       "    <tr>\n",
       "      <th>3</th>\n",
       "      <td>4</td>\n",
       "      <td>160</td>\n",
       "      <td>50%</td>\n",
       "      <td>170</td>\n",
       "      <td>25%</td>\n",
       "      <td>160</td>\n",
       "      <td>100%</td>\n",
       "      <td>170</td>\n",
       "      <td>100%</td>\n",
       "      <td>210</td>\n",
       "      <td>100%</td>\n",
       "    </tr>\n",
       "  </tbody>\n",
       "</table>\n",
       "</div>"
      ],
      "text/plain": [
       "   participant  page_speed1 page_score1  page_speed2 page_score2  \\\n",
       "0            1          180         50%          190         25%   \n",
       "1            2          229         75%          230         75%   \n",
       "2            3          204         75%          210         25%   \n",
       "3            4          160         50%          170         25%   \n",
       "\n",
       "   dynamic_speed1 dynamic_score1  dynamic_speed2 dynamic_score2  \\\n",
       "0             180           100%             200            25%   \n",
       "1             220           100%             230           100%   \n",
       "2             200            50%             210            75%   \n",
       "3             160           100%             170           100%   \n",
       "\n",
       "   dynamic_speed3 dynamic_score3  \n",
       "0             220            25%  \n",
       "1             240            75%  \n",
       "2             220            50%  \n",
       "3             210           100%  "
      ]
     },
     "execution_count": 4,
     "metadata": {},
     "output_type": "execute_result"
    }
   ],
   "source": [
    "# Print first few rows to see how it looks like.\n",
    "df.head(4)"
   ]
  },
  {
   "cell_type": "code",
   "execution_count": 5,
   "metadata": {},
   "outputs": [],
   "source": [
    "# Convert the percentages into floating integers between (0,100).\n",
    "def p2f(x):\n",
    "    return x.str.strip('%').astype(int);\n",
    "\n",
    "# Find all columns that contain score in the name.\n",
    "score_cols = [col for col in df.columns if 'score' in col]\n",
    "\n",
    "# Convert percentages to number.\n",
    "formated_scores = df[score_cols].apply(lambda x: p2f(x))\n",
    "\n",
    "# Replace columns in the original df.\n",
    "df.drop(labels=score_cols, axis=\"columns\", inplace=True)\n",
    "df[score_cols] = formated_scores[score_cols]"
   ]
  },
  {
   "cell_type": "code",
   "execution_count": 6,
   "metadata": {
    "scrolled": true
   },
   "outputs": [
    {
     "data": {
      "text/html": [
       "<div>\n",
       "<style scoped>\n",
       "    .dataframe tbody tr th:only-of-type {\n",
       "        vertical-align: middle;\n",
       "    }\n",
       "\n",
       "    .dataframe tbody tr th {\n",
       "        vertical-align: top;\n",
       "    }\n",
       "\n",
       "    .dataframe thead th {\n",
       "        text-align: right;\n",
       "    }\n",
       "</style>\n",
       "<table border=\"1\" class=\"dataframe\">\n",
       "  <thead>\n",
       "    <tr style=\"text-align: right;\">\n",
       "      <th></th>\n",
       "      <th>participant</th>\n",
       "      <th>page_speed1</th>\n",
       "      <th>page_speed2</th>\n",
       "      <th>dynamic_speed1</th>\n",
       "      <th>dynamic_speed2</th>\n",
       "      <th>dynamic_speed3</th>\n",
       "      <th>page_score1</th>\n",
       "      <th>page_score2</th>\n",
       "      <th>dynamic_score1</th>\n",
       "      <th>dynamic_score2</th>\n",
       "      <th>dynamic_score3</th>\n",
       "    </tr>\n",
       "  </thead>\n",
       "  <tbody>\n",
       "    <tr>\n",
       "      <th>0</th>\n",
       "      <td>1</td>\n",
       "      <td>180</td>\n",
       "      <td>190</td>\n",
       "      <td>180</td>\n",
       "      <td>200</td>\n",
       "      <td>220</td>\n",
       "      <td>50</td>\n",
       "      <td>25</td>\n",
       "      <td>100</td>\n",
       "      <td>25</td>\n",
       "      <td>25</td>\n",
       "    </tr>\n",
       "    <tr>\n",
       "      <th>1</th>\n",
       "      <td>2</td>\n",
       "      <td>229</td>\n",
       "      <td>230</td>\n",
       "      <td>220</td>\n",
       "      <td>230</td>\n",
       "      <td>240</td>\n",
       "      <td>75</td>\n",
       "      <td>75</td>\n",
       "      <td>100</td>\n",
       "      <td>100</td>\n",
       "      <td>75</td>\n",
       "    </tr>\n",
       "    <tr>\n",
       "      <th>2</th>\n",
       "      <td>3</td>\n",
       "      <td>204</td>\n",
       "      <td>210</td>\n",
       "      <td>200</td>\n",
       "      <td>210</td>\n",
       "      <td>220</td>\n",
       "      <td>75</td>\n",
       "      <td>25</td>\n",
       "      <td>50</td>\n",
       "      <td>75</td>\n",
       "      <td>50</td>\n",
       "    </tr>\n",
       "    <tr>\n",
       "      <th>3</th>\n",
       "      <td>4</td>\n",
       "      <td>160</td>\n",
       "      <td>170</td>\n",
       "      <td>160</td>\n",
       "      <td>170</td>\n",
       "      <td>210</td>\n",
       "      <td>50</td>\n",
       "      <td>25</td>\n",
       "      <td>100</td>\n",
       "      <td>100</td>\n",
       "      <td>100</td>\n",
       "    </tr>\n",
       "    <tr>\n",
       "      <th>4</th>\n",
       "      <td>5</td>\n",
       "      <td>152</td>\n",
       "      <td>169</td>\n",
       "      <td>160</td>\n",
       "      <td>180</td>\n",
       "      <td>190</td>\n",
       "      <td>100</td>\n",
       "      <td>75</td>\n",
       "      <td>75</td>\n",
       "      <td>50</td>\n",
       "      <td>75</td>\n",
       "    </tr>\n",
       "    <tr>\n",
       "      <th>5</th>\n",
       "      <td>6</td>\n",
       "      <td>268</td>\n",
       "      <td>195</td>\n",
       "      <td>250</td>\n",
       "      <td>300</td>\n",
       "      <td>330</td>\n",
       "      <td>25</td>\n",
       "      <td>100</td>\n",
       "      <td>100</td>\n",
       "      <td>100</td>\n",
       "      <td>100</td>\n",
       "    </tr>\n",
       "    <tr>\n",
       "      <th>6</th>\n",
       "      <td>7</td>\n",
       "      <td>145</td>\n",
       "      <td>180</td>\n",
       "      <td>200</td>\n",
       "      <td>230</td>\n",
       "      <td>250</td>\n",
       "      <td>75</td>\n",
       "      <td>75</td>\n",
       "      <td>100</td>\n",
       "      <td>75</td>\n",
       "      <td>75</td>\n",
       "    </tr>\n",
       "    <tr>\n",
       "      <th>7</th>\n",
       "      <td>8</td>\n",
       "      <td>170</td>\n",
       "      <td>220</td>\n",
       "      <td>230</td>\n",
       "      <td>260</td>\n",
       "      <td>270</td>\n",
       "      <td>50</td>\n",
       "      <td>25</td>\n",
       "      <td>75</td>\n",
       "      <td>100</td>\n",
       "      <td>25</td>\n",
       "    </tr>\n",
       "    <tr>\n",
       "      <th>8</th>\n",
       "      <td>9</td>\n",
       "      <td>150</td>\n",
       "      <td>170</td>\n",
       "      <td>190</td>\n",
       "      <td>220</td>\n",
       "      <td>240</td>\n",
       "      <td>100</td>\n",
       "      <td>100</td>\n",
       "      <td>75</td>\n",
       "      <td>100</td>\n",
       "      <td>100</td>\n",
       "    </tr>\n",
       "  </tbody>\n",
       "</table>\n",
       "</div>"
      ],
      "text/plain": [
       "   participant  page_speed1  page_speed2  dynamic_speed1  dynamic_speed2  \\\n",
       "0            1          180          190             180             200   \n",
       "1            2          229          230             220             230   \n",
       "2            3          204          210             200             210   \n",
       "3            4          160          170             160             170   \n",
       "4            5          152          169             160             180   \n",
       "5            6          268          195             250             300   \n",
       "6            7          145          180             200             230   \n",
       "7            8          170          220             230             260   \n",
       "8            9          150          170             190             220   \n",
       "\n",
       "   dynamic_speed3  page_score1  page_score2  dynamic_score1  dynamic_score2  \\\n",
       "0             220           50           25             100              25   \n",
       "1             240           75           75             100             100   \n",
       "2             220           75           25              50              75   \n",
       "3             210           50           25             100             100   \n",
       "4             190          100           75              75              50   \n",
       "5             330           25          100             100             100   \n",
       "6             250           75           75             100              75   \n",
       "7             270           50           25              75             100   \n",
       "8             240          100          100              75             100   \n",
       "\n",
       "   dynamic_score3  \n",
       "0              25  \n",
       "1              75  \n",
       "2              50  \n",
       "3             100  \n",
       "4              75  \n",
       "5             100  \n",
       "6              75  \n",
       "7              25  \n",
       "8             100  "
      ]
     },
     "execution_count": 6,
     "metadata": {},
     "output_type": "execute_result"
    }
   ],
   "source": [
    "# Print new dataframe to see if the transformation worked as expected.\n",
    "df"
   ]
  },
  {
   "cell_type": "code",
   "execution_count": 7,
   "metadata": {},
   "outputs": [
    {
     "data": {
      "text/plain": [
       "participant       int64\n",
       "page_speed1       int64\n",
       "page_speed2       int64\n",
       "dynamic_speed1    int64\n",
       "dynamic_speed2    int64\n",
       "dynamic_speed3    int64\n",
       "page_score1       int64\n",
       "page_score2       int64\n",
       "dynamic_score1    int64\n",
       "dynamic_score2    int64\n",
       "dynamic_score3    int64\n",
       "dtype: object"
      ]
     },
     "execution_count": 7,
     "metadata": {},
     "output_type": "execute_result"
    }
   ],
   "source": [
    "# Check if new types are the right ones\n",
    "df.dtypes"
   ]
  },
  {
   "cell_type": "markdown",
   "metadata": {},
   "source": [
    "## 3. Describe the data."
   ]
  },
  {
   "cell_type": "code",
   "execution_count": 8,
   "metadata": {},
   "outputs": [
    {
     "data": {
      "text/html": [
       "<div>\n",
       "<style scoped>\n",
       "    .dataframe tbody tr th:only-of-type {\n",
       "        vertical-align: middle;\n",
       "    }\n",
       "\n",
       "    .dataframe tbody tr th {\n",
       "        vertical-align: top;\n",
       "    }\n",
       "\n",
       "    .dataframe thead th {\n",
       "        text-align: right;\n",
       "    }\n",
       "</style>\n",
       "<table border=\"1\" class=\"dataframe\">\n",
       "  <thead>\n",
       "    <tr style=\"text-align: right;\">\n",
       "      <th></th>\n",
       "      <th>participant</th>\n",
       "      <th>page_speed1</th>\n",
       "      <th>page_speed2</th>\n",
       "      <th>dynamic_speed1</th>\n",
       "      <th>dynamic_speed2</th>\n",
       "      <th>dynamic_speed3</th>\n",
       "      <th>page_score1</th>\n",
       "      <th>page_score2</th>\n",
       "      <th>dynamic_score1</th>\n",
       "      <th>dynamic_score2</th>\n",
       "      <th>dynamic_score3</th>\n",
       "    </tr>\n",
       "  </thead>\n",
       "  <tbody>\n",
       "    <tr>\n",
       "      <th>count</th>\n",
       "      <td>9.000000</td>\n",
       "      <td>9.000000</td>\n",
       "      <td>9.000000</td>\n",
       "      <td>9.000000</td>\n",
       "      <td>9.000000</td>\n",
       "      <td>9.000000</td>\n",
       "      <td>9.000000</td>\n",
       "      <td>9.000000</td>\n",
       "      <td>9.000000</td>\n",
       "      <td>9.000000</td>\n",
       "      <td>9.000000</td>\n",
       "    </tr>\n",
       "    <tr>\n",
       "      <th>mean</th>\n",
       "      <td>5.000000</td>\n",
       "      <td>184.222222</td>\n",
       "      <td>192.666667</td>\n",
       "      <td>198.888889</td>\n",
       "      <td>222.222222</td>\n",
       "      <td>241.111111</td>\n",
       "      <td>66.666667</td>\n",
       "      <td>58.333333</td>\n",
       "      <td>86.111111</td>\n",
       "      <td>80.555556</td>\n",
       "      <td>69.444444</td>\n",
       "    </tr>\n",
       "    <tr>\n",
       "      <th>std</th>\n",
       "      <td>2.738613</td>\n",
       "      <td>41.787491</td>\n",
       "      <td>22.918333</td>\n",
       "      <td>30.595933</td>\n",
       "      <td>39.930495</td>\n",
       "      <td>40.756731</td>\n",
       "      <td>25.000000</td>\n",
       "      <td>33.071891</td>\n",
       "      <td>18.162079</td>\n",
       "      <td>27.322661</td>\n",
       "      <td>30.046261</td>\n",
       "    </tr>\n",
       "    <tr>\n",
       "      <th>min</th>\n",
       "      <td>1.000000</td>\n",
       "      <td>145.000000</td>\n",
       "      <td>169.000000</td>\n",
       "      <td>160.000000</td>\n",
       "      <td>170.000000</td>\n",
       "      <td>190.000000</td>\n",
       "      <td>25.000000</td>\n",
       "      <td>25.000000</td>\n",
       "      <td>50.000000</td>\n",
       "      <td>25.000000</td>\n",
       "      <td>25.000000</td>\n",
       "    </tr>\n",
       "    <tr>\n",
       "      <th>25%</th>\n",
       "      <td>3.000000</td>\n",
       "      <td>152.000000</td>\n",
       "      <td>170.000000</td>\n",
       "      <td>180.000000</td>\n",
       "      <td>200.000000</td>\n",
       "      <td>220.000000</td>\n",
       "      <td>50.000000</td>\n",
       "      <td>25.000000</td>\n",
       "      <td>75.000000</td>\n",
       "      <td>75.000000</td>\n",
       "      <td>50.000000</td>\n",
       "    </tr>\n",
       "    <tr>\n",
       "      <th>50%</th>\n",
       "      <td>5.000000</td>\n",
       "      <td>170.000000</td>\n",
       "      <td>190.000000</td>\n",
       "      <td>200.000000</td>\n",
       "      <td>220.000000</td>\n",
       "      <td>240.000000</td>\n",
       "      <td>75.000000</td>\n",
       "      <td>75.000000</td>\n",
       "      <td>100.000000</td>\n",
       "      <td>100.000000</td>\n",
       "      <td>75.000000</td>\n",
       "    </tr>\n",
       "    <tr>\n",
       "      <th>75%</th>\n",
       "      <td>7.000000</td>\n",
       "      <td>204.000000</td>\n",
       "      <td>210.000000</td>\n",
       "      <td>220.000000</td>\n",
       "      <td>230.000000</td>\n",
       "      <td>250.000000</td>\n",
       "      <td>75.000000</td>\n",
       "      <td>75.000000</td>\n",
       "      <td>100.000000</td>\n",
       "      <td>100.000000</td>\n",
       "      <td>100.000000</td>\n",
       "    </tr>\n",
       "    <tr>\n",
       "      <th>max</th>\n",
       "      <td>9.000000</td>\n",
       "      <td>268.000000</td>\n",
       "      <td>230.000000</td>\n",
       "      <td>250.000000</td>\n",
       "      <td>300.000000</td>\n",
       "      <td>330.000000</td>\n",
       "      <td>100.000000</td>\n",
       "      <td>100.000000</td>\n",
       "      <td>100.000000</td>\n",
       "      <td>100.000000</td>\n",
       "      <td>100.000000</td>\n",
       "    </tr>\n",
       "  </tbody>\n",
       "</table>\n",
       "</div>"
      ],
      "text/plain": [
       "       participant  page_speed1  page_speed2  dynamic_speed1  dynamic_speed2  \\\n",
       "count     9.000000     9.000000     9.000000        9.000000        9.000000   \n",
       "mean      5.000000   184.222222   192.666667      198.888889      222.222222   \n",
       "std       2.738613    41.787491    22.918333       30.595933       39.930495   \n",
       "min       1.000000   145.000000   169.000000      160.000000      170.000000   \n",
       "25%       3.000000   152.000000   170.000000      180.000000      200.000000   \n",
       "50%       5.000000   170.000000   190.000000      200.000000      220.000000   \n",
       "75%       7.000000   204.000000   210.000000      220.000000      230.000000   \n",
       "max       9.000000   268.000000   230.000000      250.000000      300.000000   \n",
       "\n",
       "       dynamic_speed3  page_score1  page_score2  dynamic_score1  \\\n",
       "count        9.000000     9.000000     9.000000        9.000000   \n",
       "mean       241.111111    66.666667    58.333333       86.111111   \n",
       "std         40.756731    25.000000    33.071891       18.162079   \n",
       "min        190.000000    25.000000    25.000000       50.000000   \n",
       "25%        220.000000    50.000000    25.000000       75.000000   \n",
       "50%        240.000000    75.000000    75.000000      100.000000   \n",
       "75%        250.000000    75.000000    75.000000      100.000000   \n",
       "max        330.000000   100.000000   100.000000      100.000000   \n",
       "\n",
       "       dynamic_score2  dynamic_score3  \n",
       "count        9.000000        9.000000  \n",
       "mean        80.555556       69.444444  \n",
       "std         27.322661       30.046261  \n",
       "min         25.000000       25.000000  \n",
       "25%         75.000000       50.000000  \n",
       "50%        100.000000       75.000000  \n",
       "75%        100.000000      100.000000  \n",
       "max        100.000000      100.000000  "
      ]
     },
     "execution_count": 8,
     "metadata": {},
     "output_type": "execute_result"
    }
   ],
   "source": [
    "# Get description\n",
    "df.describe()"
   ]
  },
  {
   "cell_type": "markdown",
   "metadata": {},
   "source": [
    "The table above shows basic statistics for each of the columns. The one that correspond to the participants' id 'participant' can be ignored since it do not provide any information.\n",
    "\n",
    "From this first approach we can draw quite a few conclusions. We see on the one hand that the averages of the read speed measurements in page format (~ 184 WPM, ~ 192 WPM) are lower than those taken using the web application (~ 198 WPM, ~ 222 WPM, ~ 241 WPM). It can also be seen that the level of understanding is also higher in the dynamic reading even working at higher speeds. For reading in page format and with the speeds mentioned above, comprehension levels are ~ 66 and ~ 58 out of 100, while the web application yields higher values: ~ 86, ~ 80 and ~ 69. This leads us to conclude that, although dynamic reading is more efficient both with respect to speed and comprehension, the last test that was conducted, in which speeds as high as 300 WPM were tested, collected lower comprehension rates than the previous ones, marking perhaps  the limit in which the increase in speed implies a loss of understanding. \n",
    "We will discuss this assumption in more detail later."
   ]
  },
  {
   "cell_type": "markdown",
   "metadata": {},
   "source": [
    "## 4. Understand the data"
   ]
  },
  {
   "cell_type": "code",
   "execution_count": 9,
   "metadata": {},
   "outputs": [],
   "source": [
    "# Import required libraries\n",
    "import seaborn as sns"
   ]
  },
  {
   "cell_type": "code",
   "execution_count": 10,
   "metadata": {},
   "outputs": [],
   "source": [
    "# Load new dataset and conver it to DataFrame.\n",
    "ds2=pd.read_csv('./datasets/user_testing_results_formatted.csv')\n",
    "df2=pd.DataFrame(ds2)\n"
   ]
  },
  {
   "cell_type": "markdown",
   "metadata": {},
   "source": [
    "### 4.1 Aggregated data by participant\n",
    "Not enough data to present now"
   ]
  },
  {
   "cell_type": "code",
   "execution_count": 11,
   "metadata": {},
   "outputs": [],
   "source": [
    "#user1_df = df2.loc[df2['participant'] == 1]\n",
    "#sns.lineplot(data=user1_df, x=\"speed\", y=\"comprehension\", hue=\"type\")"
   ]
  },
  {
   "cell_type": "code",
   "execution_count": 12,
   "metadata": {},
   "outputs": [],
   "source": [
    "#user2_df = df2.loc[df2['participant'] == 2]\n",
    "#sns.lineplot(data=user2_df, x=\"speed\", y=\"comprehension\", hue=\"type\")"
   ]
  },
  {
   "cell_type": "code",
   "execution_count": 13,
   "metadata": {
    "scrolled": true
   },
   "outputs": [],
   "source": [
    "#user3_df = df2.loc[df2['participant'] == 3]\n",
    "#sns.lineplot(data=user3_df, x=\"speed\", y=\"comprehension\", hue=\"type\")"
   ]
  },
  {
   "cell_type": "code",
   "execution_count": 14,
   "metadata": {},
   "outputs": [],
   "source": [
    "#user4_df = df2.loc[df2['participant'] == 4]\n",
    "#sns.lineplot(data=user4_df, x=\"speed\", y=\"comprehension\", hue=\"type\")"
   ]
  },
  {
   "cell_type": "code",
   "execution_count": 15,
   "metadata": {},
   "outputs": [],
   "source": [
    "#user5_df = df2.loc[df2['participant'] == 5]\n",
    "#sns.lineplot(data=user5_df, x=\"speed\", y=\"comprehension\", hue=\"type\")"
   ]
  },
  {
   "cell_type": "code",
   "execution_count": 16,
   "metadata": {},
   "outputs": [],
   "source": [
    "#user6_df = df2.loc[df2['participant'] == 6]\n",
    "#sns.lineplot(data=user6_df, x=\"speed\", y=\"comprehension\", hue=\"type\")"
   ]
  },
  {
   "cell_type": "code",
   "execution_count": 17,
   "metadata": {},
   "outputs": [],
   "source": [
    "#user7_df = df2.loc[df2['participant'] == 7]\n",
    "#sns.lineplot(data=user7_df, x=\"speed\", y=\"comprehension\", hue=\"type\")"
   ]
  },
  {
   "cell_type": "code",
   "execution_count": 18,
   "metadata": {},
   "outputs": [],
   "source": [
    "#user8_df = df2.loc[df2['participant'] == 8]\n",
    "#sns.lineplot(data=user8_df, x=\"speed\", y=\"comprehension\", hue=\"type\")"
   ]
  },
  {
   "cell_type": "code",
   "execution_count": 19,
   "metadata": {},
   "outputs": [],
   "source": [
    "#user9_df = df2.loc[df2['participant'] == 9]\n",
    "#sns.lineplot(data=user9_df, x=\"speed\", y=\"comprehension\", hue=\"type\")"
   ]
  },
  {
   "cell_type": "markdown",
   "metadata": {},
   "source": [
    "### 4.2 Invidual data"
   ]
  },
  {
   "cell_type": "markdown",
   "metadata": {},
   "source": [
    "The goal of this section is to understand whether reading comprehension and speed increase when using the dynamic reading tool.\n",
    "\n",
    "In order to be able to visualize the measurements easier, we are going to load a different dataset with the data organized by measures instead of by users."
   ]
  },
  {
   "cell_type": "code",
   "execution_count": 20,
   "metadata": {},
   "outputs": [
    {
     "data": {
      "text/html": [
       "<div>\n",
       "<style scoped>\n",
       "    .dataframe tbody tr th:only-of-type {\n",
       "        vertical-align: middle;\n",
       "    }\n",
       "\n",
       "    .dataframe tbody tr th {\n",
       "        vertical-align: top;\n",
       "    }\n",
       "\n",
       "    .dataframe thead th {\n",
       "        text-align: right;\n",
       "    }\n",
       "</style>\n",
       "<table border=\"1\" class=\"dataframe\">\n",
       "  <thead>\n",
       "    <tr style=\"text-align: right;\">\n",
       "      <th></th>\n",
       "      <th>speed</th>\n",
       "      <th>type</th>\n",
       "      <th>participant</th>\n",
       "      <th>comprehension</th>\n",
       "      <th>experiment</th>\n",
       "    </tr>\n",
       "  </thead>\n",
       "  <tbody>\n",
       "    <tr>\n",
       "      <th>0</th>\n",
       "      <td>180</td>\n",
       "      <td>page</td>\n",
       "      <td>1</td>\n",
       "      <td>50</td>\n",
       "      <td>1</td>\n",
       "    </tr>\n",
       "    <tr>\n",
       "      <th>1</th>\n",
       "      <td>190</td>\n",
       "      <td>page</td>\n",
       "      <td>1</td>\n",
       "      <td>25</td>\n",
       "      <td>2</td>\n",
       "    </tr>\n",
       "    <tr>\n",
       "      <th>2</th>\n",
       "      <td>180</td>\n",
       "      <td>dynamic</td>\n",
       "      <td>1</td>\n",
       "      <td>100</td>\n",
       "      <td>3</td>\n",
       "    </tr>\n",
       "    <tr>\n",
       "      <th>3</th>\n",
       "      <td>200</td>\n",
       "      <td>dynamic</td>\n",
       "      <td>1</td>\n",
       "      <td>25</td>\n",
       "      <td>4</td>\n",
       "    </tr>\n",
       "    <tr>\n",
       "      <th>4</th>\n",
       "      <td>220</td>\n",
       "      <td>dynamic</td>\n",
       "      <td>1</td>\n",
       "      <td>25</td>\n",
       "      <td>5</td>\n",
       "    </tr>\n",
       "  </tbody>\n",
       "</table>\n",
       "</div>"
      ],
      "text/plain": [
       "   speed     type  participant  comprehension  experiment\n",
       "0    180     page            1             50           1\n",
       "1    190     page            1             25           2\n",
       "2    180  dynamic            1            100           3\n",
       "3    200  dynamic            1             25           4\n",
       "4    220  dynamic            1             25           5"
      ]
     },
     "execution_count": 20,
     "metadata": {},
     "output_type": "execute_result"
    }
   ],
   "source": [
    "# Preview\n",
    "df2.head()"
   ]
  },
  {
   "cell_type": "code",
   "execution_count": 21,
   "metadata": {},
   "outputs": [],
   "source": [
    "# Scatter plot\n",
    "#sns.scatterplot(data=df2, x=\"speed\", y=\"comprehension\", hue=\"type\")\n",
    "#sns.histplot(data=df2, x=\"comprehension\", y=\"speed\", hue=\"type\")"
   ]
  },
  {
   "cell_type": "code",
   "execution_count": 22,
   "metadata": {},
   "outputs": [
    {
     "data": {
      "text/plain": [
       "<AxesSubplot:xlabel='type', ylabel='speed'>"
      ]
     },
     "execution_count": 22,
     "metadata": {},
     "output_type": "execute_result"
    },
    {
     "data": {
      "image/png": "[encoded data removed]",
      "text/plain": [
       "<Figure size 432x288 with 1 Axes>"
      ]
     },
     "metadata": {
      "needs_background": "light"
     },
     "output_type": "display_data"
    }
   ],
   "source": [
    "# Represent speed by techonology\n",
    "sns.boxplot(x=\"type\", y=\"speed\", data=df2)"
   ]
  },
  {
   "cell_type": "markdown",
   "metadata": {},
   "source": [
    "This graph represents the reading speeds in WPM achieved with both methods. As we can see, presenting the text in a dynamic way allows reaching higher speeds. However, the dispersion of the values is much greater as well. This could be due to ease or difficulty of adaptation to the reading tool."
   ]
  },
  {
   "cell_type": "code",
   "execution_count": 23,
   "metadata": {},
   "outputs": [
    {
     "data": {
      "text/plain": [
       "<AxesSubplot:xlabel='type', ylabel='comprehension'>"
      ]
     },
     "execution_count": 23,
     "metadata": {},
     "output_type": "execute_result"
    },
    {
     "data": {
      "image/png": "[encoded data removed]",
      "text/plain": [
       "<Figure size 432x288 with 1 Axes>"
      ]
     },
     "metadata": {
      "needs_background": "light"
     },
     "output_type": "display_data"
    }
   ],
   "source": [
    "# Represent comprehension by techonology\n",
    "sns.boxplot(x=\"type\", y=\"comprehension\", data=df2)"
   ]
  },
  {
   "cell_type": "markdown",
   "metadata": {},
   "source": [
    "Comprehension is also higher using the dynamic reading tool, as shown in the graphic above."
   ]
  },
  {
   "cell_type": "code",
   "execution_count": 24,
   "metadata": {},
   "outputs": [],
   "source": [
    "#static_df = df2.loc[df2['type'] == 'page']\n",
    "#sns.lineplot(data=static_df, x=\"speed\", y=\"comprehension\")"
   ]
  },
  {
   "cell_type": "code",
   "execution_count": 25,
   "metadata": {},
   "outputs": [],
   "source": [
    "#dynamic_df = df2.loc[df2['type'] == 'dynamic']\n",
    "#sns.lineplot(data=dynamic_df, x=\"speed\", y=\"comprehension\")"
   ]
  },
  {
   "cell_type": "code",
   "execution_count": 26,
   "metadata": {},
   "outputs": [],
   "source": [
    "#The goal of these charts was to draw conclusions about the correlation between speed (independent variable) and #comprehension (dependent variable) for each of the methods, however, the amount and dispersion of the data does #not allow us to reach any result."
   ]
  },
  {
   "cell_type": "markdown",
   "metadata": {},
   "source": [
    "### 4.3. ANOVA\n",
    "\n",
    "#### Goal\n",
    "* Test the **homogeneity** of variances in order to know if the variances are homogenous\n",
    "* Test the **significance of the difference** of participants' reading speeds and, therefore, their reading abilities\n",
    "* Present and compare the differences \n",
    "\n",
    "#### Differences of reading abilities\n",
    "\n",
    "* To examine whether there are differences in terms of **reading ability** among participants, differences among users’ reading speeds on the dynamic reading website were assessed with **ANOVA (Analysis of variance)**.\n",
    "* As we can see from **Test of Homogeneity of Varirances**, the significance of comprehension_socres is **0.051 >0.05** and the significance of reading_rates is **0.028>0.05**, which means the variances of both reading_rates and comprehension_scores are homogeneous and the **ANOVA results are valid**.\n",
    "\n"
   ]
  },
  {
   "attachments": {
    "home.jpg": {
     "image/jpeg": "[encoded data removed]"
    }
   },
   "cell_type": "markdown",
   "metadata": {},
   "source": [
    "![home.jpg](attachment:home.jpg)"
   ]
  },
  {
   "cell_type": "markdown",
   "metadata": {},
   "source": [
    "* From ANOVA test,  the significance of reading_rates is **0.000<0.005**, which means that participants have **significant difference** in regard to reading speeds.\n",
    "* The significance of comprehension_scores is **0.48>0.005**, which means that the data **does not show significant difference** regarding reading comprehensions among participants."
   ]
  },
  {
   "attachments": {
    "anova.jpg": {
     "image/jpeg": "[encoded data removed]"
    }
   },
   "cell_type": "markdown",
   "metadata": {},
   "source": [
    "![anova.jpg](attachment:anova.jpg)"
   ]
  },
  {
   "cell_type": "markdown",
   "metadata": {},
   "source": [
    "## 4.4 Average reading speed by participant\n",
    "\n",
    "According to the mean plot of the reading speeds, we came to the conclusion that our participants have significant differences in their reading abilities, with participant number 6 scoring the highest."
   ]
  },
  {
   "cell_type": "code",
   "execution_count": 27,
   "metadata": {},
   "outputs": [
    {
     "data": {
      "text/plain": [
       "<AxesSubplot:xlabel='participant', ylabel='mean_WPM'>"
      ]
     },
     "execution_count": 27,
     "metadata": {},
     "output_type": "execute_result"
    },
    {
     "data": {
      "image/png": "[encoded data removed]",
      "text/plain": [
       "<Figure size 432x288 with 1 Axes>"
      ]
     },
     "metadata": {
      "needs_background": "light"
     },
     "output_type": "display_data"
    }
   ],
   "source": [
    "participants =df['participant'].unique()\n",
    "\n",
    "means = {}\n",
    "for i in participants:\n",
    "    participant = df2.loc[df2['participant'] == i]\n",
    "    means[i] = [participant.speed.sum() / len(participant.speed)]\n",
    "\n",
    "means_df = pd.DataFrame(means).transpose()\n",
    "means_df = means_df.rename(columns={0: 'mean_WPM'})\n",
    "means_df['participant'] = means_df.index\n",
    "sns.lineplot(data=means_df, x='participant', y='mean_WPM')\n"
   ]
  },
  {
   "cell_type": "markdown",
   "metadata": {},
   "source": [
    "## Conclusion\n",
    "\n",
    "The differences in performance between the two experiments seem clear, both in terms of reading speed and comprehension. As WPM increases, there is a considerable loss of performance in ordinary reading. Although this inverse correlation is also maintained by reading dynamically, the speeds achieved with this technique are higher and with less loss of understanding. \n",
    "As an exception, participants 1 and 5 obtained a higher level of comprehension when reading in page format.\n",
    "\n"
   ]
  },
  {
   "cell_type": "markdown",
   "metadata": {},
   "source": [
    "## Peer Review\n",
    "The peer review has been made by *Christoph Albert Johns*. \n",
    "Charts that were not very intuitive have been replaced and the document has been modified taking into account his suggestions."
   ]
  }
 ],
 "metadata": {
  "kernelspec": {
   "display_name": "Python 3",
   "language": "python",
   "name": "python3"
  },
  "language_info": {
   "codemirror_mode": {
    "name": "ipython",
    "version": 3
   },
   "file_extension": ".py",
   "mimetype": "text/x-python",
   "name": "python",
   "nbconvert_exporter": "python",
   "pygments_lexer": "ipython3",
   "version": "3.9.0"
  }
 },
 "nbformat": 4,
 "nbformat_minor": 4
}
