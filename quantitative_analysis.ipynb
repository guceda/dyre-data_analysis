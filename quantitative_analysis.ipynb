{
 "cells": [
  {
   "cell_type": "markdown",
   "metadata": {},
   "source": [
    "# Quantitative Exercise "
   ]
  },
  {
   "cell_type": "markdown",
   "metadata": {},
   "source": [
    "## Tasks\n",
    "### Step 1:\n",
    "Each group should:\n",
    "\n",
    "- Do the pre-processing necessary to load the data into the analysis tool that is to be used for your project. While using R is recommended, the actual choice of tool is up to each of the groups.\n",
    "- Load your data into the analysis tool.\n",
    "- Identify which are your independent variables and which are your dependent variables (in the data which you have collected or generated). Write a description of the expected properties of each of these variables.\n",
    "Perform exploratory data analysis. Does your data have the expected properties? If not, can you identify why it does not?\n",
    "- Identify what statistical tools you will apply to analyze your data. If you have a model for the relationship between the independent and the dependent variables fit your data to this model. If you do not have a model, what could you to do identify a model, for example using principal component analysis?\n",
    "- Generate some visual aids (such as tables or graphs) to present your data to others.\n",
    "\n",
    "### Step 2: \n",
    "- Each group should exchange the output of the above with another group, then comment on the other group’s output. The goal is to help the other group improve their analysis and presentation.\n",
    "\n",
    "Note that an important goal of this exercise is to help groups determine what data they need to collect and how much and what type of data needs to be collected.\n",
    "\n",
    "### Step 3: \n",
    "- Submit a summary of your planned data analysis and perhaps some illustrative images (plots, graphs, images) as appropriate.\n"
   ]
  },
  {
   "cell_type": "markdown",
   "metadata": {},
   "source": [
    "# 1. Load data into the analysis tool."
   ]
  },
  {
   "cell_type": "code",
   "execution_count": 14,
   "metadata": {},
   "outputs": [],
   "source": [
    "# Read the dataset file.\n",
    "import pandas as pd\n",
    "path = \"./datasets\"\n",
    "\n",
    "df = pd.read_csv(path + \"/user_testing_results.csv\",\";\")"
   ]
  },
  {
   "cell_type": "markdown",
   "metadata": {},
   "source": [
    "# 2. Describe the data."
   ]
  },
  {
   "cell_type": "code",
   "execution_count": 17,
   "metadata": {},
   "outputs": [
    {
     "name": "stdout",
     "output_type": "stream",
     "text": [
      "Index(['ID', ' Name', 'Page_reading_speed1', 'Page_reading_score1',\n",
      "       'Dynamic_Reading_speed1', 'Dynamic_Reading_score1',\n",
      "       'Dynamic_Reading_speed2', 'Dynamic_Reading_score2',\n",
      "       'Dynamic_Reading_speed3', 'Dynamic_Reading_score3', ' feedback'],\n",
      "      dtype='object')\n"
     ]
    }
   ],
   "source": [
    "# Print the number of the columns available.\n",
    "print(df.columns)"
   ]
  },
  {
   "cell_type": "code",
   "execution_count": 16,
   "metadata": {},
   "outputs": [
    {
     "name": "stdout",
     "output_type": "stream",
     "text": [
      "7\n"
     ]
    }
   ],
   "source": [
    "# Print the number of rows. Each row represents a different participant.\n",
    "print(len(df))"
   ]
  },
  {
   "cell_type": "markdown",
   "metadata": {},
   "source": [
    "The dataset is made up of 11 columns: Two that define the user (id, name), two related to the reading in page format, 6 from testing the dynamic reading system, and a last one that corresponds to feedback and that will be used for a qualitative subsequent analysis. The seven rows of which it is composed represent each of the users that have been tested."
   ]
  },
  {
   "cell_type": "code",
   "execution_count": null,
   "metadata": {},
   "outputs": [],
   "source": []
  }
 ],
 "metadata": {
  "kernelspec": {
   "display_name": "Python 3",
   "language": "python",
   "name": "python3"
  },
  "language_info": {
   "codemirror_mode": {
    "name": "ipython",
    "version": 3
   },
   "file_extension": ".py",
   "mimetype": "text/x-python",
   "name": "python",
   "nbconvert_exporter": "python",
   "pygments_lexer": "ipython3",
   "version": "3.7.8"
  }
 },
 "nbformat": 4,
 "nbformat_minor": 4
}
