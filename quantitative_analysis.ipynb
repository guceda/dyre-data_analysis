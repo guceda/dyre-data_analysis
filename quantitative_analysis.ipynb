{
 "cells": [
  {
   "cell_type": "markdown",
   "metadata": {},
   "source": [
    "# Quantitative Exercise"
   ]
  },
  {
   "cell_type": "markdown",
   "metadata": {},
   "source": [
    "## Tasks\n",
    "### Step 1:\n",
    "Each group should:\n",
    "\n",
    "- Do the pre-processing necessary to load the data into the analysis tool that is to be used for your project. While using R is recommended, the actual choice of tool is up to each of the groups.\n",
    "- Load your data into the analysis tool.\n",
    "- Identify which are your independent variables and which are your dependent variables (in the data which you have collected or generated). Write a description of the expected properties of each of these variables.\n",
    "Perform exploratory data analysis. Does your data have the expected properties? If not, can you identify why it does not?\n",
    "- Identify what statistical tools you will apply to analyze your data. If you have a model for the relationship between the independent and the dependent variables fit your data to this model. If you do not have a model, what could you to do identify a model, for example using principal component analysis?\n",
    "- Generate some visual aids (such as tables or graphs) to present your data to others.\n",
    "\n",
    "### Step 2: \n",
    "- Each group should exchange the output of the above with another group, then comment on the other group’s output. The goal is to help the other group improve their analysis and presentation.\n",
    "\n",
    "Note that an important goal of this exercise is to help groups determine what data they need to collect and how much and what type of data needs to be collected.\n",
    "\n",
    "### Step 3: \n",
    "- Submit a summary of your planned data analysis and perhaps some illustrative images (plots, graphs, images) as appropriate.\n"
   ]
  },
  {
   "cell_type": "markdown",
   "metadata": {},
   "source": [
    "# 1. Load data into the analysis tool."
   ]
  },
  {
   "cell_type": "code",
   "execution_count": null,
   "metadata": {},
   "outputs": [],
   "source": [
    "# Read the dataset file.\n",
    "import pandas as pd\n",
    "df = pd.read_csv(\"./user_testing_results.csv\")"
   ]
  },
  {
   "cell_type": "code",
   "execution_count": null,
   "metadata": {},
   "outputs": [],
   "source": [
    "# Print the number of the columns available.\n",
    "print(df.columns)"
   ]
  },
  {
   "cell_type": "code",
   "execution_count": null,
   "metadata": {},
   "outputs": [],
   "source": [
    "# Print the number of rows. Each row represents a different participant.\n",
    "print(len(df))"
   ]
  },
  {
   "cell_type": "code",
   "execution_count": null,
   "metadata": {},
   "outputs": [],
   "source": []
  }
 ],
 "metadata": {
  "kernelspec": {
   "display_name": "Python 3",
   "language": "python",
   "name": "python3"
  },
  "language_info": {
   "codemirror_mode": {
    "name": "ipython",
    "version": 3
   },
   "file_extension": ".py",
   "mimetype": "text/x-python",
   "name": "python",
   "nbconvert_exporter": "python",
   "pygments_lexer": "ipython3",
   "version": "3.7.8"
  }
 },
 "nbformat": 4,
 "nbformat_minor": 4
}
